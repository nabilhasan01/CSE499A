{
 "cells": [
  {
   "cell_type": "code",
   "execution_count": 2,
   "id": "b00c2bab",
   "metadata": {},
   "outputs": [],
   "source": [
    "import os\n",
    "import torch\n",
    "import torch.nn as nn\n",
    "import torch.optim as optim\n",
    "from torchvision import datasets, transforms, models\n",
    "from torch.utils.data import DataLoader, random_split\n",
    "from collections import defaultdict\n",
    "from shutil import copyfile"
   ]
  },
  {
   "cell_type": "code",
   "execution_count": 3,
   "id": "26648ee8",
   "metadata": {},
   "outputs": [
    {
     "name": "stdout",
     "output_type": "stream",
     "text": [
      "cuda\n"
     ]
    }
   ],
   "source": [
    "# Configuration\n",
    "data_dir = \"Dataset/Plant_Leaf_Dataset\"\n",
    "batch_size = 20\n",
    "num_epochs = 10\n",
    "image_size = 224\n",
    "learning_rate = 0.001\n",
    "num_workers = 4\n",
    "device = torch.device(\"cuda\" if torch.cuda.is_available() else \"cpu\")\n",
    "\n",
    "print(device)"
   ]
  },
  {
   "cell_type": "code",
   "execution_count": 4,
   "id": "700a51fb",
   "metadata": {},
   "outputs": [],
   "source": [
    "# Data transformations\n",
    "transform = transforms.Compose([\n",
    "    transforms.Resize((image_size, image_size)),\n",
    "    transforms.ToTensor(),\n",
    "    transforms.Normalize([0.485, 0.456, 0.406], [0.229, 0.224, 0.225])\n",
    "])"
   ]
  },
  {
   "cell_type": "code",
   "execution_count": 5,
   "id": "70368232",
   "metadata": {},
   "outputs": [
    {
     "name": "stdout",
     "output_type": "stream",
     "text": [
      "Class Names: ['Apple__Apple_scab', 'Apple__Black_rot', 'Apple__Cedar_apple_rust', 'Apple__healthy', 'Background_without_leaves', 'Bean__Blight', 'Bean__Healthy', 'Bean__Mosaic_Virus', 'Bean__Rust', 'Blueberry__healthy', 'Cherry__Powdery_mildew', 'Cherry__healthy', 'Corn__Cercospora_leaf_spot Gray_leaf_spot', 'Corn__Common_rust', 'Corn__Northern_Leaf_Blight', 'Corn__healthy', 'Cowpea__Bacterial_wilt', 'Cowpea__Healthy', 'Cowpea__Mosaic_virus', 'Cowpea__Septoria_leaf_spot', 'Grape__Black_rot', 'Grape__Esca_(Black_Measles)', 'Grape__Leaf_blight_(Isariopsis_Leaf_Spot)', 'Grape__healthy', 'Orange__Haunglongbing_(Citrus_greening)', 'Peach__Bacterial_spot', 'Peach__healthy', 'Pepper__bell__Bacterial_spot', 'Pepper__bell__healthy', 'Potato__Early_blight', 'Potato__Late_blight', 'Potato__healthy', 'Raspberry__healthy', 'Soybean__healthy', 'Squash__Powdery_mildew', 'Strawberry__Leaf_scorch', 'Strawberry__healthy', 'Tomato__Bacterial_spot', 'Tomato__Early_blight', 'Tomato__Late_blight', 'Tomato__Leaf_Mold', 'Tomato__Septoria_leaf_spot', 'Tomato__Spider_mites Two-spotted_spider_mite', 'Tomato__Target_Spot', 'Tomato__Tomato_Yellow_Leaf_Curl_Virus', 'Tomato__Tomato_mosaic_virus', 'Tomato__healthy']\n"
     ]
    }
   ],
   "source": [
    "full_dataset = datasets.ImageFolder(root=os.path.join(data_dir), transform=transform)\n",
    "class_names = full_dataset.classes\n",
    "print(\"Class Names:\", class_names)"
   ]
  },
  {
   "cell_type": "code",
   "execution_count": 6,
   "id": "2813226d",
   "metadata": {},
   "outputs": [],
   "source": [
    "train_size = int(0.7 * len(full_dataset))\n",
    "val_size = int(0.15 * len(full_dataset))\n",
    "test_size = len(full_dataset) - train_size - val_size\n",
    "\n",
    "train_data, val_data, test_data = random_split(full_dataset, [train_size, val_size, test_size])\n",
    "train_loader = DataLoader(train_data, batch_size=batch_size, shuffle=True, num_workers=num_workers, pin_memory=True)\n",
    "val_loader = DataLoader(val_data, batch_size=batch_size, shuffle=False, num_workers=num_workers, pin_memory=True)\n",
    "test_loader = DataLoader(test_data, batch_size=batch_size, shuffle=False, num_workers=num_workers, pin_memory=True)"
   ]
  },
  {
   "cell_type": "code",
   "execution_count": 7,
   "id": "b1fb1f9b",
   "metadata": {},
   "outputs": [
    {
     "name": "stdout",
     "output_type": "stream",
     "text": [
      "Exported 5 images per class to Tests/test_images\n"
     ]
    }
   ],
   "source": [
    "#Export Images From Test Dataset For Future Testing\n",
    "\n",
    "output_dir = \"Tests/test_images\"\n",
    "os.makedirs(output_dir, exist_ok=True)\n",
    "\n",
    "class_counts = defaultdict(int)\n",
    "for image_path, label in test_data.dataset.samples:\n",
    "    if class_counts[label] < 5:\n",
    "\n",
    "        class_name = class_names[label]\n",
    "        class_dir = os.path.join(output_dir, class_name)\n",
    "        os.makedirs(class_dir, exist_ok=True)\n",
    "        \n",
    "        output_path = os.path.join(class_dir, os.path.basename(image_path))\n",
    "        copyfile(image_path, output_path)\n",
    "        \n",
    "        class_counts[label] += 1\n",
    "\n",
    "    if len(class_counts) == len(class_names) and all(count >= 5 for count in class_counts.values()):\n",
    "        break\n",
    "\n",
    "print(f\"Exported 5 images per class to {output_dir}\")"
   ]
  },
  {
   "cell_type": "code",
   "execution_count": 8,
   "id": "b779816c",
   "metadata": {},
   "outputs": [],
   "source": [
    "# Model setup\n",
    "model = models.resnet18(weights='ResNet18_Weights.DEFAULT')\n",
    "num_features = model.fc.in_features\n",
    "model.fc = nn.Linear(num_features, len(full_dataset.classes))\n",
    "model = model.to(device)"
   ]
  },
  {
   "cell_type": "code",
   "execution_count": 9,
   "id": "f0f6712f",
   "metadata": {},
   "outputs": [],
   "source": [
    "# Loss and optimizer\n",
    "criterion = nn.CrossEntropyLoss()\n",
    "optimizer = optim.Adam(model.parameters(), lr=learning_rate)"
   ]
  },
  {
   "cell_type": "code",
   "execution_count": 10,
   "id": "a95acc2f",
   "metadata": {},
   "outputs": [],
   "source": [
    "# Validation function\n",
    "def validate_model(model, val_loader):\n",
    "    model.eval()\n",
    "    val_loss = 0.0\n",
    "    correct = 0\n",
    "    total = 0\n",
    "\n",
    "    with torch.no_grad():\n",
    "        for images, labels in val_loader:\n",
    "            images, labels = images.to(device), labels.to(device)\n",
    "\n",
    "            outputs = model(images)\n",
    "            loss = criterion(outputs, labels)\n",
    "\n",
    "            val_loss += loss.item()\n",
    "            _, predicted = torch.max(outputs, 1)\n",
    "            total += labels.size(0)\n",
    "            correct += (predicted == labels).sum().item()\n",
    "\n",
    "    val_loss /= len(val_loader)\n",
    "    val_accuracy = 100 * correct / total\n",
    "    return val_loss, val_accuracy"
   ]
  },
  {
   "cell_type": "code",
   "execution_count": 11,
   "id": "534d91d2",
   "metadata": {},
   "outputs": [],
   "source": [
    "# Training function\n",
    "def train_model():\n",
    "    for epoch in range(num_epochs):\n",
    "        # Training phase\n",
    "        model.train()\n",
    "        running_loss = 0.0\n",
    "        correct = 0\n",
    "        total = 0\n",
    "\n",
    "        for images, labels in train_loader:\n",
    "            images, labels = images.to(device), labels.to(device)\n",
    "\n",
    "            # Forward pass\n",
    "            outputs = model(images)\n",
    "            loss = criterion(outputs, labels)\n",
    "\n",
    "            # Backward pass\n",
    "            optimizer.zero_grad()\n",
    "            loss.backward()\n",
    "            optimizer.step()\n",
    "\n",
    "            # Statistics\n",
    "            running_loss += loss.item()\n",
    "            _, predicted = torch.max(outputs, 1)\n",
    "            total += labels.size(0)\n",
    "            correct += (predicted == labels).sum().item()\n",
    "\n",
    "        train_loss = running_loss / len(train_loader)\n",
    "        train_accuracy = 100 * correct / total\n",
    "\n",
    "        # Validation phase\n",
    "        val_loss, val_accuracy = validate_model(model, val_loader)\n",
    "\n",
    "        print(f\"Epoch [{epoch+1}/{num_epochs}]\")\n",
    "        print(f\"  Training Loss: {train_loss:.4f}, Training Accuracy: {train_accuracy:.2f}%\")\n",
    "        print(f\"  Validation Loss: {val_loss:.4f}, Validation Accuracy: {val_accuracy:.2f}%\")"
   ]
  },
  {
   "cell_type": "code",
   "execution_count": 12,
   "id": "66a9aa02",
   "metadata": {},
   "outputs": [],
   "source": [
    "def save_model(model, file_path=\"Saved-Models/leaf_disease_model.pth\"):\n",
    "    torch.save(model.state_dict(), file_path)\n",
    "    print(f\"Model saved to {file_path}\")"
   ]
  },
  {
   "cell_type": "code",
   "execution_count": null,
   "id": "5e4292dd",
   "metadata": {},
   "outputs": [
    {
     "name": "stdout",
     "output_type": "stream",
     "text": [
      "Epoch [1/10]\n",
      "  Training Loss: 0.4342, Training Accuracy: 86.63%\n",
      "  Validation Loss: 0.1745, Validation Accuracy: 94.18%\n",
      "Epoch [2/10]\n",
      "  Training Loss: 0.1732, Training Accuracy: 94.37%\n",
      "  Validation Loss: 0.1618, Validation Accuracy: 95.86%\n",
      "Epoch [3/10]\n",
      "  Training Loss: 0.1322, Training Accuracy: 95.71%\n",
      "  Validation Loss: 0.1215, Validation Accuracy: 95.97%\n",
      "Epoch [4/10]\n",
      "  Training Loss: 0.1035, Training Accuracy: 96.75%\n",
      "  Validation Loss: 0.1158, Validation Accuracy: 96.72%\n",
      "Epoch [5/10]\n",
      "  Training Loss: 0.0833, Training Accuracy: 97.33%\n",
      "  Validation Loss: 0.0838, Validation Accuracy: 97.26%\n",
      "Epoch [6/10]\n",
      "  Training Loss: 0.0721, Training Accuracy: 97.76%\n",
      "  Validation Loss: 0.0781, Validation Accuracy: 97.37%\n",
      "Epoch [7/10]\n",
      "  Training Loss: 0.0578, Training Accuracy: 98.12%\n",
      "  Validation Loss: 0.0993, Validation Accuracy: 96.88%\n",
      "Epoch [8/10]\n",
      "  Training Loss: 0.0547, Training Accuracy: 98.21%\n",
      "  Validation Loss: 0.1182, Validation Accuracy: 96.84%\n",
      "Epoch [9/10]\n",
      "  Training Loss: 0.0463, Training Accuracy: 98.50%\n",
      "  Validation Loss: 0.0550, Validation Accuracy: 98.34%\n",
      "Epoch [10/10]\n",
      "  Training Loss: 0.0413, Training Accuracy: 98.68%\n",
      "  Validation Loss: 0.0717, Validation Accuracy: 98.10%\n",
      "Model saved to Models/leaf_disease_model.pth\n"
     ]
    }
   ],
   "source": [
    "if __name__ == \"__main__\":\n",
    "    train_model()\n",
    "    save_model(model, file_path=\"Saved-Models/leaf_disease_model.pth\")"
   ]
  },
  {
   "cell_type": "code",
   "execution_count": 13,
   "id": "3a1069d6",
   "metadata": {},
   "outputs": [],
   "source": [
    "def load_model(model, file_path=\"Saved-Models/leaf_disease_model.pth\"):\n",
    "    if os.path.exists(file_path):\n",
    "        model.load_state_dict(torch.load(file_path, map_location=device))\n",
    "        model = model.to(device)\n",
    "        print(f\"Model loaded from {file_path}\")\n",
    "    else:\n",
    "        print(f\"No model found at {file_path}.\")\n",
    "    return model"
   ]
  },
  {
   "cell_type": "code",
   "execution_count": 14,
   "id": "86e28dff",
   "metadata": {},
   "outputs": [
    {
     "name": "stderr",
     "output_type": "stream",
     "text": [
      "/tmp/ipykernel_40630/375615667.py:3: FutureWarning: You are using `torch.load` with `weights_only=False` (the current default value), which uses the default pickle module implicitly. It is possible to construct malicious pickle data which will execute arbitrary code during unpickling (See https://github.com/pytorch/pytorch/blob/main/SECURITY.md#untrusted-models for more details). In a future release, the default value for `weights_only` will be flipped to `True`. This limits the functions that could be executed during unpickling. Arbitrary objects will no longer be allowed to be loaded via this mode unless they are explicitly allowlisted by the user via `torch.serialization.add_safe_globals`. We recommend you start setting `weights_only=True` for any use case where you don't have full control of the loaded file. Please open an issue on GitHub for any issues related to this experimental feature.\n",
      "  model.load_state_dict(torch.load(file_path, map_location=device))\n"
     ]
    },
    {
     "name": "stdout",
     "output_type": "stream",
     "text": [
      "Model loaded from Saved-Models/leaf_disease_model.pth\n"
     ]
    }
   ],
   "source": [
    "loaded_model = models.resnet18(weights=None)\n",
    "num_features = loaded_model.fc.in_features\n",
    "loaded_model.fc = nn.Linear(num_features, len(full_dataset.classes))\n",
    "loaded_model = load_model(loaded_model, file_path=\"Saved-Models/leaf_disease_model.pth\")"
   ]
  },
  {
   "cell_type": "code",
   "execution_count": 15,
   "id": "e93cd6af",
   "metadata": {},
   "outputs": [],
   "source": [
    "def test_model(model, test_loader):\n",
    "    model.eval()\n",
    "    test_loss = 0.0\n",
    "    correct = 0\n",
    "    total = 0\n",
    "\n",
    "    with torch.no_grad():\n",
    "        for images, labels in test_loader:\n",
    "            images, labels = images.to(device), labels.to(device)\n",
    "\n",
    "            # Forward pass\n",
    "            outputs = model(images)\n",
    "            loss = criterion(outputs, labels)\n",
    "\n",
    "            test_loss += loss.item()\n",
    "            _, predicted = torch.max(outputs, 1)\n",
    "            total += labels.size(0)\n",
    "            correct += (predicted == labels).sum().item()\n",
    "\n",
    "    test_loss /= len(test_loader)\n",
    "    test_accuracy = 100 * correct / total\n",
    "    print(f\"Test Loss: {test_loss:.4f}, Test Accuracy: {test_accuracy:.2f}%\")\n",
    "    return test_accuracy"
   ]
  },
  {
   "cell_type": "code",
   "execution_count": 16,
   "id": "bc7ac167",
   "metadata": {},
   "outputs": [
    {
     "name": "stdout",
     "output_type": "stream",
     "text": [
      "Test Loss: 0.0388, Test Accuracy: 98.78%\n"
     ]
    }
   ],
   "source": [
    "test_accuracy = test_model(loaded_model, test_loader)"
   ]
  },
  {
   "cell_type": "code",
   "execution_count": 17,
   "id": "54f0966b",
   "metadata": {},
   "outputs": [],
   "source": [
    "from PIL import Image\n",
    "\n",
    "def predict_image(image_path, model, class_names):\n",
    "\n",
    "    transform = transforms.Compose([\n",
    "        transforms.Resize((image_size, image_size)),\n",
    "        transforms.ToTensor(),\n",
    "        transforms.Normalize([0.485, 0.456, 0.406], [0.229, 0.224, 0.225])\n",
    "    ])\n",
    "\n",
    "    image = Image.open(image_path).convert(\"RGB\")\n",
    "    image = transform(image).unsqueeze(0)\n",
    "\n",
    "    image = image.to(device)\n",
    "\n",
    "    model.eval()\n",
    "\n",
    "    with torch.no_grad():\n",
    "        outputs = model(image)\n",
    "        _, predicted = torch.max(outputs, 1)\n",
    "        predicted_class = class_names[predicted.item()]\n",
    "\n",
    "    print(f\"Predicted Class: {predicted_class}\")\n",
    "    return predicted_class\n"
   ]
  },
  {
   "cell_type": "code",
   "execution_count": 18,
   "id": "c02a5d94",
   "metadata": {},
   "outputs": [
    {
     "name": "stdout",
     "output_type": "stream",
     "text": [
      "Predicted Class: Corn__Cercospora_leaf_spot Gray_leaf_spot\n"
     ]
    },
    {
     "data": {
      "text/plain": [
       "'Corn__Cercospora_leaf_spot Gray_leaf_spot'"
      ]
     },
     "execution_count": 18,
     "metadata": {},
     "output_type": "execute_result"
    }
   ],
   "source": [
    "class_names = full_dataset.classes\n",
    "\n",
    "image_path = \"Tests/test_images/Corn__Cercospora_leaf_spot Gray_leaf_spot/image (1).jpg\"\n",
    "predict_image(image_path, loaded_model, class_names)\n"
   ]
  }
 ],
 "metadata": {
  "kernelspec": {
   "display_name": "Python 3",
   "language": "python",
   "name": "python3"
  },
  "language_info": {
   "codemirror_mode": {
    "name": "ipython",
    "version": 3
   },
   "file_extension": ".py",
   "mimetype": "text/x-python",
   "name": "python",
   "nbconvert_exporter": "python",
   "pygments_lexer": "ipython3",
   "version": "3.12.3"
  }
 },
 "nbformat": 4,
 "nbformat_minor": 5
}
