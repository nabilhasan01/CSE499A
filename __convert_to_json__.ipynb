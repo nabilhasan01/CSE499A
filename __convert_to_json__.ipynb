{
 "cells": [
  {
   "cell_type": "code",
   "execution_count": null,
   "id": "d6bfc245",
   "metadata": {},
   "outputs": [],
   "source": [
    "import torch\n",
    "import torch.nn as nn\n",
    "import json\n",
    "\n",
    "# Load the ResNet18 model without pre-trained weights\n",
    "model = models.resnet18(pretrained=False)\n",
    "\n",
    "# Change the final fully connected layer to match the number of classes in your model\n",
    "num_features = model.fc.in_features\n",
    "model.fc = nn.Linear(num_features, 47)  # Set the number of output classes to 47\n",
    "\n",
    "# Load the trained weights\n",
    "model.load_state_dict(torch.load(\"Models/plant_disease_model.pth\"))\n",
    "model.eval()\n",
    "\n",
    "# Extract model architecture as a dictionary\n",
    "model_dict = {\n",
    "    'architecture': str(model),  # Save the architecture as a string\n",
    "    'state_dict': {}  # Will hold the model's weights\n",
    "}\n",
    "\n",
    "# Convert the model's state_dict (weights) into a dictionary of numpy arrays\n",
    "for param_tensor in model.state_dict():\n",
    "    model_dict['state_dict'][param_tensor] = model.state_dict()[param_tensor].cpu().numpy().tolist()\n",
    "\n",
    "# Save to a JSON file\n",
    "with open(\"plant_disease_model.json\", \"w\") as json_file:\n",
    "    json.dump(model_dict, json_file, indent=4)\n",
    "\n",
    "print(\"Model saved to JSON.\")\n"
   ]
  }
 ],
 "metadata": {
  "kernelspec": {
   "display_name": "Python 3",
   "language": "python",
   "name": "python3"
  },
  "language_info": {
   "codemirror_mode": {
    "name": "ipython",
    "version": 3
   },
   "file_extension": ".py",
   "mimetype": "text/x-python",
   "name": "python",
   "nbconvert_exporter": "python",
   "pygments_lexer": "ipython3",
   "version": "3.12.3"
  }
 },
 "nbformat": 4,
 "nbformat_minor": 5
}
